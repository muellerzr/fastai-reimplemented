{
 "cells": [
  {
   "cell_type": "markdown",
   "metadata": {},
   "source": [
    "# Ground Rules\n",
    "\n",
    "> A list of ground rules, formatting structure, and more"
   ]
  },
  {
   "cell_type": "markdown",
   "metadata": {
    "tags": []
   },
   "source": [
    "## Using `fastcore`\n",
    "\n",
    "Ideas such as `typedispatch`, `patch`, and more are allowed to be used. **However**:\n",
    "\n",
    "1. They must be implemented in this repository\n",
    "2. Their documentation must make sense to someone with 6 months of Python coding experience"
   ]
  },
  {
   "cell_type": "markdown",
   "metadata": {},
   "source": [
    "## Coding practices\n",
    "\n",
    "\"Standard\" coding practice must be maintained that a *typical user* would see.\n",
    "\n",
    "What this means:\n",
    "\n",
    "- Coding in a notebook must be as verbose as possible to maintain the literate programming procatices\n",
    "- *However* there must be no lack of understanding when using normal IDE tools such as VSCode. \n",
    "- `import *` *must* be an optional feature, with easy access to the non `import *` imports to be utilized.\n",
    "- **Lines of code and whitespace matters**. Code will be ran through Flake8 with line limitations and REPL\n",
    "- **Variable and class names matters**. Naming conventions *must* be explicit **and** descriptive. There should be *no* hidden variable meanings a user has to dive through to understand quickly when looking at the source code."
   ]
  },
  {
   "cell_type": "markdown",
   "metadata": {},
   "source": [
    "## Documentation practices\n",
    "\n",
    "- Each code chunk can be documented with `docments` but\n",
    "- Each function should contain a full example, similar to that of the examples in [Accelerate](https://github.com/huggingface/accelerate/pull/1010). They must work fully out-of-the box and be annotated\n",
    "- Code comments should be more plentiful than non, just ensure that if it's important they're noted inside the notebook itself.\n",
    "- Code examples are *different* than tests, they should be clear towards what the user should be doing and how"
   ]
  },
  {
   "cell_type": "markdown",
   "metadata": {},
   "source": [
    "Code going in:"
   ]
  },
  {
   "cell_type": "code",
   "execution_count": 1,
   "metadata": {},
   "outputs": [],
   "source": [
    "#export\n",
    "def addition(\n",
    "    a:int, # The first number to add\n",
    "    b:int, # The second number to add\n",
    ") -> int:\n",
    "    \"Adds two numbers together\"\n",
    "    return a+b"
   ]
  },
  {
   "cell_type": "code",
   "execution_count": 2,
   "metadata": {},
   "outputs": [
    {
     "data": {
      "text/plain": [
       "3"
      ]
     },
     "execution_count": 2,
     "metadata": {},
     "output_type": "execute_result"
    }
   ],
   "source": [
    "#example\n",
    "addition(1,2)"
   ]
  },
  {
   "cell_type": "markdown",
   "metadata": {},
   "source": [
    "Code going out:"
   ]
  },
  {
   "cell_type": "markdown",
   "metadata": {},
   "source": [
    "```python\n",
    "def addition(a:int, b:int) -> int:\n",
    "    \"\"\"\n",
    "    Adds two numbers together\n",
    "    \n",
    "    Example:\n",
    "    \n",
    "    ```python\n",
    "    >>> addition(1,2)\n",
    "    3\n",
    "    ```\n",
    "    \"\"\"\n",
    "    return a+b\n",
    "```"
   ]
  },
  {
   "cell_type": "markdown",
   "metadata": {},
   "source": [
    "Tests for dependencies should be explicit and raise an error, there should never be:\n",
    "\n",
    "```python\n",
    "if (): import ...\n",
    "else: pass\n",
    "```"
   ]
  }
 ],
 "metadata": {
  "kernelspec": {
   "display_name": "Python 3 (ipykernel)",
   "language": "python",
   "name": "python3"
  },
  "language_info": {
   "codemirror_mode": {
    "name": "ipython",
    "version": 3
   },
   "file_extension": ".py",
   "mimetype": "text/x-python",
   "name": "python",
   "nbconvert_exporter": "python",
   "pygments_lexer": "ipython3",
   "version": "3.9.16"
  }
 },
 "nbformat": 4,
 "nbformat_minor": 4
}
