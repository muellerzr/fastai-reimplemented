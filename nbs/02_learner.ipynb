{
 "cells": [
  {
   "cell_type": "code",
   "execution_count": null,
   "id": "f8d66661-913b-41dc-96ae-cd1f4342ab72",
   "metadata": {},
   "outputs": [],
   "source": [
    "#| default_exp learner"
   ]
  },
  {
   "cell_type": "markdown",
   "id": "337aab50",
   "metadata": {},
   "source": [
    "# Learner\n",
    "> The core training loop"
   ]
  },
  {
   "cell_type": "code",
   "execution_count": 23,
   "id": "d6427b6b-3a0a-405f-81b8-b3936ce0336a",
   "metadata": {
    "tags": []
   },
   "outputs": [],
   "source": [
    "#| export\n",
    "import torch\n",
    "from typing import Union, List\n",
    "from torch.optim import Optimizer\n",
    "from fastai_reimplemented.callback.core import Callback"
   ]
  },
  {
   "cell_type": "code",
   "execution_count": 24,
   "id": "590b3497",
   "metadata": {
    "tags": []
   },
   "outputs": [],
   "source": [
    "#| export\n",
    "class Learner:\n",
    "    \"\"\"\n",
    "    Groups together a model, a set of dataloaders, an optimizer, and \n",
    "    a loss function to handle training.\n",
    "    \"\"\"\n",
    "    training = False\n",
    "    def __init__(\n",
    "        self,\n",
    "        dls, # A `DataLoaders` instance containing fastai or PyTorch `DataLoader`s\n",
    "        model:torch.nn.Module, # A PyTorch model for training or inference\n",
    "        loss_function:callable, # The loss function to use, defaults to the one attached in `dls`\n",
    "        opt_function:Optimizer, # Optimization function for training\n",
    "        learning_rate:float=1e-3, # Default learning rate\n",
    "        callbacks:List[Callback] = [], # Additional `Callback`'s to be tied to the `Learner` directly\n",
    "        metrics:callable=None, # Metrics to be applied on the validation set\n",
    "    ):\n",
    "        self.dls = dls\n",
    "        # if loss_function is None:\n",
    "        #     loss_function = getattr(self.dls.train_ds, \"loss_func\", False)\n",
    "        #     if not loss_function:\n",
    "        #         raise ValueError(\"Could not infer loss function from the dataloaders, please pass in a loss function\")\n",
    "        self.model = model\n",
    "        self.loss_function = loss_function\n",
    "        self.opt_function = opt_function\n",
    "        self.learning_rate = learning_rate\n",
    "        self.callbacks = callbacks\n",
    "        self.metrics = metrics\n",
    "        \n",
    "    def call_event(\n",
    "        self, \n",
    "        event:str # A valid `Callback` event\n",
    "    ):\n",
    "        \"Calls a callback `event` for all callbacks in `self.callbacks`\"\n",
    "        for callback in sorted(\n",
    "            self.callbacks,\n",
    "            key=lambda cb: cb.order, \n",
    "            reverse=True\n",
    "        ):\n",
    "            if isinstance(callback, type):\n",
    "                callback = callback(self)\n",
    "            callback(event)"
   ]
  },
  {
   "cell_type": "code",
   "execution_count": 25,
   "id": "4e782a3f-8e44-4d80-bde6-57fcc7e44cc7",
   "metadata": {
    "tags": []
   },
   "outputs": [],
   "source": [
    "class TestCallback(Callback):\n",
    "    def before_batch(self):\n",
    "        print(\"Called in before batch!\")"
   ]
  },
  {
   "cell_type": "code",
   "execution_count": 26,
   "id": "ea021fc9-60fb-40f5-ba81-38e74beb35e7",
   "metadata": {
    "tags": []
   },
   "outputs": [],
   "source": [
    "learn = Learner(None, None, None, None, callbacks=[TestCallback])"
   ]
  },
  {
   "cell_type": "code",
   "execution_count": 27,
   "id": "e1858f47-9b26-4599-82bc-2fa88aa0a764",
   "metadata": {
    "tags": []
   },
   "outputs": [
    {
     "name": "stdout",
     "output_type": "stream",
     "text": [
      "Called in before batch!\n"
     ]
    }
   ],
   "source": [
    "learn.call_event(\"before_batch\")"
   ]
  },
  {
   "cell_type": "code",
   "execution_count": null,
   "id": "f07384ac-3057-4c24-a645-201c16b85cbe",
   "metadata": {},
   "outputs": [],
   "source": []
  }
 ],
 "metadata": {
  "kernelspec": {
   "display_name": "Python 3 (ipykernel)",
   "language": "python",
   "name": "python3"
  },
  "language_info": {
   "codemirror_mode": {
    "name": "ipython",
    "version": 3
   },
   "file_extension": ".py",
   "mimetype": "text/x-python",
   "name": "python",
   "nbconvert_exporter": "python",
   "pygments_lexer": "ipython3",
   "version": "3.9.16"
  }
 },
 "nbformat": 4,
 "nbformat_minor": 5
}
