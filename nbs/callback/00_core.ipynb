{
 "cells": [
  {
   "cell_type": "code",
   "execution_count": null,
   "id": "4db06c20-9567-4d2a-8841-f2075d939f0c",
   "metadata": {},
   "outputs": [],
   "source": [
    "#| default_exp callback.core"
   ]
  },
  {
   "cell_type": "markdown",
   "id": "6689e795",
   "metadata": {},
   "source": [
    "# Callback Core\n",
    "> Foundations for the `Callback` system"
   ]
  },
  {
   "cell_type": "code",
   "execution_count": 12,
   "id": "6198bb59-f4da-4906-8e0d-4ee6728fe90e",
   "metadata": {
    "tags": []
   },
   "outputs": [],
   "source": [
    "#| export\n",
    "from enum import Enum, auto"
   ]
  },
  {
   "cell_type": "code",
   "execution_count": 54,
   "id": "48b9daf3-7625-4bba-8a60-566d9609a4d1",
   "metadata": {
    "tags": []
   },
   "outputs": [],
   "source": [
    "#| export\n",
    "class StrEnum(str, Enum):\n",
    "    \"\"\"\n",
    "    Same as the `StrEnum` available in Python 3.11, returns\n",
    "    the lower-cased version of the member name.\n",
    "    \"\"\"\n",
    "    @classmethod\n",
    "    def contains(cls, value) -> bool:\n",
    "        \"Checks if `value` exists in the current `Enum`\"\n",
    "        return value in cls._value2member_map_\n",
    "    \n",
    "    def _generate_next_value_(name, start, count, last_values):\n",
    "        return name.lower()"
   ]
  },
  {
   "cell_type": "code",
   "execution_count": 52,
   "id": "071b4b40-a0e7-4dbf-bbb8-5f5f1abfaf18",
   "metadata": {
    "tags": []
   },
   "outputs": [],
   "source": [
    "#| hide\n",
    "_test_enum = StrEnum(\"_TestEnum\", (\"a\",\"B\"))\n",
    "assert _test_enum.a == \"a\"\n",
    "assert _test_enum.B == \"b\"\n",
    "assert not _test_enum.contains(\"B\")"
   ]
  },
  {
   "cell_type": "code",
   "execution_count": 31,
   "id": "3a1e058b-c4a4-4813-992d-0ccd53054738",
   "metadata": {
    "tags": []
   },
   "outputs": [],
   "source": [
    "#| export\n",
    "class CallbackEvent(StrEnum):\n",
    "    \"\"\"\n",
    "    All possible events for Callbacks\n",
    "    \"\"\"\n",
    "    after_create = auto()\n",
    "    before_fit = auto()\n",
    "    before_epoch = auto()\n",
    "    before_train = auto()\n",
    "    before_batch = auto()\n",
    "    after_pred = auto()\n",
    "    after_loss = auto()\n",
    "    before_backward = auto()\n",
    "    after_cancel_backward = auto()\n",
    "    after_backward = auto()\n",
    "    before_step = auto()\n",
    "    after_cancel_step = auto()\n",
    "    after_step = auto()\n",
    "    after_cancel_batch = auto()\n",
    "    after_batch = auto()\n",
    "    after_cancel_train = auto() \n",
    "    after_train = auto()\n",
    "    before_validate = auto()\n",
    "    after_cancel_validate = auto()\n",
    "    after_validate = auto()\n",
    "    after_cancel_epoch = auto()\n",
    "    after_epoch = auto()\n",
    "    after_cancel_fit = auto()\n",
    "    after_fit = auto()"
   ]
  },
  {
   "cell_type": "code",
   "execution_count": 22,
   "id": "a0011c70-6715-4598-ac01-a02484372f46",
   "metadata": {
    "tags": []
   },
   "outputs": [],
   "source": [
    "#| export\n",
    "class InnerTrainingLoopEvent(StrEnum):\n",
    "    \"\"\"\n",
    "    An Enum containing all of the possible events of the inner training loop\n",
    "    \"\"\"\n",
    "    before_batch = auto()\n",
    "    after_pred = auto()\n",
    "    after_loss = auto()\n",
    "    before_backward = auto()\n",
    "    after_cancel_backward = auto()\n",
    "    after_backward = auto()\n",
    "    before_step = auto()\n",
    "    after_step = auto()\n",
    "    after_cancel_batch = auto()\n",
    "    after_batch = auto()"
   ]
  },
  {
   "cell_type": "code",
   "execution_count": 23,
   "id": "8b5fac5b-4507-44bc-8beb-6ea73377febd",
   "metadata": {
    "tags": []
   },
   "outputs": [],
   "source": [
    "#| export\n",
    "class CancelBatchException(Exception):\n",
    "    \"\"\"\n",
    "    An Exception to be used in a `Callback` to know when\n",
    "    to skip the rest of the current batch and continue to `after_batch`.\n",
    "    \"\"\"\n",
    "    pass"
   ]
  },
  {
   "cell_type": "code",
   "execution_count": 23,
   "id": "059b4f3b-1072-4c13-9a2b-4731b12f73f8",
   "metadata": {
    "tags": []
   },
   "outputs": [],
   "source": [
    "#| export\n",
    "class CancelTrainException(Exception):\n",
    "    \"\"\"\n",
    "    An Exception to be used in a `Callback` to know when\n",
    "    to skip the rest of the training section of the current epoch\n",
    "    and continue to `after_train`.\n",
    "    \"\"\"\n",
    "    pass"
   ]
  },
  {
   "cell_type": "code",
   "execution_count": 23,
   "id": "209f2ffc-008e-4d2d-b191-a146974a2b1f",
   "metadata": {
    "tags": []
   },
   "outputs": [],
   "source": [
    "#| export\n",
    "class CancelValidatException(Exception):\n",
    "    \"\"\"\n",
    "    An Exception to be used in a `Callback` to know when\n",
    "    to skip the rest of the validation section of the current epoch\n",
    "    and continue to `after_validate`.\n",
    "    \"\"\"\n",
    "    pass"
   ]
  },
  {
   "cell_type": "code",
   "execution_count": 23,
   "id": "c761883c-3e53-49c5-9676-91f81b608f43",
   "metadata": {
    "tags": []
   },
   "outputs": [],
   "source": [
    "#| export\n",
    "class CancelEpochException(Exception):\n",
    "    \"\"\"\n",
    "    An Exception to be used in a `Callback` to know when\n",
    "    to skip the rest of the current epoch and continue \n",
    "    to `after_epoch`.\n",
    "    \"\"\"\n",
    "    pass"
   ]
  },
  {
   "cell_type": "code",
   "execution_count": 23,
   "id": "e2785710-c54f-45c3-bc0f-6ec4b76e06da",
   "metadata": {
    "tags": []
   },
   "outputs": [],
   "source": [
    "#| export\n",
    "class CancelStepException(Exception):\n",
    "    \"\"\"\n",
    "    An Exception to be used in a `Callback` to know when\n",
    "    to skip the stepping of the optimizer for the \n",
    "    current batch.\n",
    "    \"\"\"\n",
    "    pass"
   ]
  },
  {
   "cell_type": "code",
   "execution_count": 23,
   "id": "584400a3-e386-4d14-a53d-00a301d5de1d",
   "metadata": {
    "tags": []
   },
   "outputs": [],
   "source": [
    "#| export\n",
    "class CancelBackwardException(Exception):\n",
    "    \"\"\"\n",
    "    An Exception to be used in a `Callback` to know when\n",
    "    to skip the backward pass during the current batch and \n",
    "    continue to `after_backward`.\n",
    "    \"\"\"\n",
    "    pass"
   ]
  },
  {
   "cell_type": "code",
   "execution_count": 23,
   "id": "e69cdc09-04bf-4434-9774-ad9f8a3d186a",
   "metadata": {
    "tags": []
   },
   "outputs": [],
   "source": [
    "#| export\n",
    "class CancelFitException(Exception):\n",
    "    \"\"\"\n",
    "    An Exception to be used in a `Callback` to know when\n",
    "    to cancel the entire training loop and continue to \n",
    "    `after_fit`.\n",
    "    \"\"\"\n",
    "    pass"
   ]
  },
  {
   "cell_type": "code",
   "execution_count": 36,
   "id": "85e54720-8faa-4760-84ea-5f2d0425f58e",
   "metadata": {
    "tags": []
   },
   "outputs": [],
   "source": [
    "#| export\n",
    "class Callback:\n",
    "    \"\"\"\n",
    "    Basic class for handling tweaks of the current training loop through all defined events \n",
    "    in the `CallbackEvent` enum.\n",
    "    \n",
    "    Class Properties:\n",
    "    \n",
    "    - `order` (`int`): The order a `Callback` will be called at\n",
    "    - `run` (`bool`): Whether the `Callback` should be skipped\n",
    "    - `run_train` (`bool`): Whether the `Callback` should be skipped during the training stage\n",
    "    - `run_valid` (`bool`): Whether the `Callback` should be skipped during the validation stage\n",
    "    \"\"\"\n",
    "    order = 0\n",
    "    run = True\n",
    "    run_train = True\n",
    "    run_valid = True\n",
    "    \n",
    "    def __init__(self, learn):\n",
    "        self.learn = learn\n",
    "        \n",
    "    def __call__(\n",
    "        self, \n",
    "        event_name:str, # An event defined in `CallbackEvent`\n",
    "    ):\n",
    "        if not CallbackEvent.contains(event_name):\n",
    "            raise ValueError(\n",
    "                f\"Unsupported event {event_name} passed. Please ensure it's one defined in the `CallbackEvent` enum class.\"\n",
    "            )\n",
    "        if (\n",
    "            not InnerTrainingLoopEvent.contains(event_name)\n",
    "            or (self.run_train and self.learn.training)\n",
    "            or (self.run_valid and not self.learn.training)\n",
    "        ):\n",
    "            try:\n",
    "                output = self.call_event(event_name)\n",
    "            except (\n",
    "                CancelBatchException, CancelBackwardException, CancelEpochException, \n",
    "                CancelStepException, CancelTrainException, CancelValidatException\n",
    "            ):\n",
    "                pass\n",
    "            except Exception as e:\n",
    "                raise\n",
    "        if event_name == \"after_fit\":\n",
    "            # Reset self.run to `True` at the end of each `fit`\n",
    "            self.run = True\n",
    "        return output"
   ]
  },
  {
   "cell_type": "code",
   "execution_count": null,
   "id": "6ff3b28e-11f2-439c-9523-69923ed5e1d6",
   "metadata": {},
   "outputs": [],
   "source": []
  }
 ],
 "metadata": {
  "kernelspec": {
   "display_name": "Python 3 (ipykernel)",
   "language": "python",
   "name": "python3"
  },
  "language_info": {
   "codemirror_mode": {
    "name": "ipython",
    "version": 3
   },
   "file_extension": ".py",
   "mimetype": "text/x-python",
   "name": "python",
   "nbconvert_exporter": "python",
   "pygments_lexer": "ipython3",
   "version": "3.9.16"
  }
 },
 "nbformat": 4,
 "nbformat_minor": 5
}
