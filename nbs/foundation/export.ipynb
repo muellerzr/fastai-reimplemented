{
 "cells": [
  {
   "cell_type": "code",
   "execution_count": 1,
   "id": "277e158b-7f9c-4cd5-b000-fef5f701ec96",
   "metadata": {},
   "outputs": [],
   "source": [
    "#| default_exp foundation.export"
   ]
  },
  {
   "cell_type": "code",
   "execution_count": 33,
   "id": "36c1f285-4a8b-4436-a841-3c8a699f72a4",
   "metadata": {},
   "outputs": [],
   "source": [
    "#| export\n",
    "import os\n",
    "from fastcore.basics import ifnone\n",
    "from fastcore.foundation import L\n",
    "from fastcore.script import call_parse\n",
    "\n",
    "from nbdev.config import get_config, add_init\n",
    "from nbdev.doclinks import nbglob, _build_modidx\n",
    "from nbdev.export import ExportModuleProc, black_format\n",
    "from nbdev.maker import ModuleMaker\n",
    "from nbdev.process import NBProcessor\n",
    "from nbdev.processors import FilterDefaults"
   ]
  },
  {
   "cell_type": "code",
   "execution_count": 24,
   "id": "620cd8bc-c2ea-4100-9dc3-9d3c344b18cf",
   "metadata": {},
   "outputs": [],
   "source": [
    "#| export\n",
    "def nb_export(nbname, lib_path=None, procs=black_format, debug=False, mod_maker=ModuleMaker, name=None):\n",
    "    \"\"\"Create module(s) from notebook\"\"\"\n",
    "    if lib_path is None: lib_path = get_config().lib_path\n",
    "    exp = ExportModuleProc()\n",
    "    extra_procs = FilterDefaults().xtra_procs()\n",
    "    nb = NBProcessor(nbname, [exp]+L(procs) + extra_procs, debug=debug)\n",
    "    nb.process()\n",
    "    for mod,cells in exp.modules.items():\n",
    "        all_cells = exp.in_all[mod]\n",
    "        nm = ifnone(name, getattr(exp, 'default_exp', None) if mod=='#' else mod)\n",
    "        if not nm:\n",
    "            warn(f\"Notebook '{nbname}' uses `#|export` without `#|default_exp` cell.\\n\"\n",
    "                 \"Note nbdev2 no longer supports nbdev1 syntax. Run `nbdev_migrate` to upgrade.\\n\"\n",
    "                 \"See https://nbdev.fast.ai/getting_started.html for more information.\")\n",
    "            return\n",
    "        mm = mod_maker(dest=lib_path, name=nm, nb_path=nbname, is_new=bool(name) or mod=='#')\n",
    "        mm.make(cells, all_cells, lib_path=lib_path)"
   ]
  },
  {
   "cell_type": "code",
   "execution_count": null,
   "id": "1f9cb229-36cb-414e-b5be-b15687c4d469",
   "metadata": {},
   "outputs": [],
   "source": [
    "#| export\n",
    "@call_parse\n",
    "def fast_export(\n",
    "    path:str=None, # Path or filename\n",
    "):\n",
    "    \"\"\"\n",
    "    Export notebooks in `path` to Python modules\n",
    "    \"\"\"\n",
    "    if os.environ.get('IN_TEST',0): return\n",
    "    files = nbglob(path=path, as_path=True).sorted('name')\n",
    "    for f in files: nb_export(f)\n",
    "    add_init(get_config().lib_path)\n",
    "    _build_modidx()"
   ]
  }
 ],
 "metadata": {
  "kernelspec": {
   "display_name": "Python 3 (ipykernel)",
   "language": "python",
   "name": "python3"
  },
  "language_info": {
   "codemirror_mode": {
    "name": "ipython",
    "version": 3
   },
   "file_extension": ".py",
   "mimetype": "text/x-python",
   "name": "python",
   "nbconvert_exporter": "python",
   "pygments_lexer": "ipython3",
   "version": "3.9.16"
  }
 },
 "nbformat": 4,
 "nbformat_minor": 5
}
