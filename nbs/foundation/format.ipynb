{
 "cells": [
  {
   "cell_type": "code",
   "execution_count": null,
   "id": "ca724fa2-0fde-462d-87ef-f7bfc3203c3a",
   "metadata": {},
   "outputs": [],
   "source": [
    "#| default_exp foundation.codeformat"
   ]
  },
  {
   "cell_type": "markdown",
   "id": "209da795-92d1-405e-8d97-ef5780065b45",
   "metadata": {},
   "source": [
    "# Code Formatting\n",
    "> Tests to check code formatting and quality"
   ]
  },
  {
   "cell_type": "markdown",
   "id": "a32b51c9-7a02-44b5-a7f3-0d8f5f60c3d5",
   "metadata": {},
   "source": [
    "Using the `setup.cfg` in this project clean up code cells"
   ]
  },
  {
   "cell_type": "code",
   "execution_count": null,
   "id": "46041240-ca84-4c01-ae98-8c8bdd0ef6db",
   "metadata": {},
   "outputs": [],
   "source": [
    "#| export\n",
    "import black\n",
    "import itertools\n",
    "import re\n",
    "import subprocess\n",
    "from tokenize import tokenize,COMMENT\n",
    "from ast import parse,FunctionDef\n",
    "from io import BytesIO\n",
    "from textwrap import dedent\n",
    "from types import SimpleNamespace\n",
    "from inspect import getsource,isfunction,isclass,signature,Parameter\n",
    "from fastcore.basics import *\n",
    "import re"
   ]
  },
  {
   "cell_type": "code",
   "execution_count": null,
   "id": "d0a45803-3144-48fd-9d72-db462f4ac9e8",
   "metadata": {},
   "outputs": [],
   "source": [
    "#| export\n",
    "BLACK_OPTIONS = {\n",
    "    \"--line-length\": str(119),\n",
    "}"
   ]
  },
  {
   "cell_type": "code",
   "execution_count": null,
   "id": "fa6b915b-6a33-4ee0-97ed-16772c580dc1",
   "metadata": {},
   "outputs": [],
   "source": [
    "#| export\n",
    "def format_black(\n",
    "    input_code:str # Input code to be passed through to black\n",
    ") -> str:\n",
    "    \"\"\"\n",
    "    Converts `code` into the properly-formatted `black` options\n",
    "    \"\"\"\n",
    "    output_code = subprocess.run(\n",
    "        [\"black\", \"--code\", input_code] + list(sum(BLACK_OPTIONS.items(), ()))\n",
    "        ,\n",
    "        capture_output=True\n",
    "    )\n",
    "    return output_code.stdout.decode()"
   ]
  },
  {
   "cell_type": "code",
   "execution_count": null,
   "id": "5c26528b-0b12-40c3-9577-7b9abffbff60",
   "metadata": {},
   "outputs": [
    {
     "data": {
      "text/plain": [
       "'print(\"hello world\")\\n'"
      ]
     },
     "execution_count": null,
     "metadata": {},
     "output_type": "execute_result"
    }
   ],
   "source": [
    "#| example\n",
    "format_black(\"print ( 'hello world' )\")"
   ]
  },
  {
   "cell_type": "code",
   "execution_count": null,
   "id": "f2e9018e-758f-48da-a66c-31e5b96ea8f2",
   "metadata": {},
   "outputs": [],
   "source": [
    "#| export\n",
    "def _parses(s):\n",
    "    \"\"\"Parse Python code in string or function object `s`\"\"\"\n",
    "    return parse(dedent(getsource(s) if isfunction(s) else s))"
   ]
  },
  {
   "cell_type": "code",
   "execution_count": null,
   "id": "44754d37-7b7b-42b8-ba20-f9b663ac792e",
   "metadata": {},
   "outputs": [],
   "source": [
    "#| export\n",
    "def _tokens(s):\n",
    "    \"\"\"Tokenize Python code in string or function object `s`\"\"\"\n",
    "    if isfunction(s): s = getsource(s)\n",
    "    return tokenize(BytesIO(s.encode('utf-8')).readline)"
   ]
  },
  {
   "cell_type": "code",
   "execution_count": null,
   "id": "7b7892dd-df3e-4ebf-9059-9e1df52455ca",
   "metadata": {},
   "outputs": [],
   "source": [
    "#| export\n",
    "_clean_re = re.compile('^\\s*#(.*)\\s*$')"
   ]
  },
  {
   "cell_type": "code",
   "execution_count": null,
   "id": "e35b2b98-ad1b-4918-a201-d91f64a56eea",
   "metadata": {},
   "outputs": [],
   "source": [
    "#| export\n",
    "def _clean_comment(s):\n",
    "    \"\"\"a\"\"\"\n",
    "    res = _clean_re.findall(s)\n",
    "    return res[0] if res else None"
   ]
  },
  {
   "cell_type": "code",
   "execution_count": null,
   "id": "70d423ce-8449-4d71-a509-9067aa503880",
   "metadata": {},
   "outputs": [],
   "source": [
    "#| export\n",
    "def _param_locs(s, returns=True):\n",
    "    \"\"\"`dict` of parameter line numbers to names\"\"\"\n",
    "    body = _parses(s).body\n",
    "    if len(body)!= 1 or not isinstance(body[0], FunctionDef): return None\n",
    "    defn = body[0]\n",
    "    res = {arg.lineno:arg.arg for arg in defn.args.args}\n",
    "    if returns and defn.returns: res[defn.returns.lineno] = 'return'\n",
    "    return res"
   ]
  },
  {
   "cell_type": "code",
   "execution_count": null,
   "id": "46bd57f4-d7b3-405d-afda-ba6c417032d6",
   "metadata": {},
   "outputs": [],
   "source": [
    "#| export\n",
    "def _get_comment(line, arg, comments, parms):\n",
    "    \"\"\"a\"\"\"\n",
    "    if line in comments: return comments[line].strip()\n",
    "    line -= 1\n",
    "    res = []\n",
    "    while line and line in comments and line not in parms:\n",
    "        res.append(comments[line])\n",
    "        line -= 1\n",
    "    return dedent('\\n'.join(reversed(res))) if res else None"
   ]
  },
  {
   "cell_type": "code",
   "execution_count": null,
   "id": "35420f98-d874-410e-8f4d-735ca4779e3d",
   "metadata": {},
   "outputs": [],
   "source": [
    "#| export\n",
    "def _get_full(anno, name, default, docs):\n",
    "    \"\"\"a\"\"\"\n",
    "    if anno==Parameter.empty and default!=Parameter.empty: anno = type(default)\n",
    "    return AttrDict(docment=docs.get(name), anno=anno, default=default)"
   ]
  },
  {
   "cell_type": "code",
   "execution_count": null,
   "id": "893629fb-32b8-40ca-a08f-1f8a66418606",
   "metadata": {},
   "outputs": [],
   "source": [
    "#| export\n",
    "def docments(s, full=False, returns=True, eval_str=False):\n",
    "    \"\"\"`dict` of parameter names to 'docment-style' comments in function or string `s`\"\"\"\n",
    "    if isclass(s): s = s.__init__ # Constructor for a class\n",
    "    comments = {o.start[0]:_clean_comment(o.string) for o in _tokens(s) if o.type==COMMENT}\n",
    "    parms = _param_locs(s, returns=returns)\n",
    "    docs = {arg:_get_comment(line, arg, comments, parms) for line,arg in parms.items()}\n",
    "    if not full: return docs\n",
    "\n",
    "    if isinstance(s,str): s = eval(s)\n",
    "    sig = signature(s)\n",
    "    res = {arg:_get_full(p.annotation, p.name, p.default, docs) for arg,p in sig.parameters.items()}\n",
    "    if returns: res['return'] = _get_full(sig.return_annotation, 'return', Parameter.empty, docs)\n",
    "    if eval_str:\n",
    "        hints = type_hints(s)\n",
    "        for k,v in res.items():\n",
    "            if k in hints: v['anno'] = hints.get(k)\n",
    "    return res"
   ]
  },
  {
   "cell_type": "code",
   "execution_count": null,
   "id": "1cea724b-5cfe-4da7-8d8c-c9e7ef740560",
   "metadata": {},
   "outputs": [],
   "source": [
    "code = '''def attach_example(\n",
    "    source_code:str, # The complete python code of a function or class\n",
    "    example_code:str # The complete annotated example to go along with the source code\n",
    ") -> str:\n",
    "    \"\"\"\n",
    "    Attaches example code to source code in a code cell\n",
    "    \"\"\"\n",
    "    example_code = example_code.split(\"\")\n",
    "    \n",
    "    num_spaces = sum(1 for _ in itertools.takewhile(str.isspace, example_code[0]))\n",
    "'''"
   ]
  },
  {
   "cell_type": "code",
   "execution_count": null,
   "id": "2c485702-28db-4f1b-be27-7dc0c38e1f81",
   "metadata": {},
   "outputs": [],
   "source": [
    "#| export\n",
    "def get_annotations(code:str):\n",
    "    \"\"\"\n",
    "    Finds the annotations in some source code\n",
    "    \"\"\"\n",
    "    annotations = {}\n",
    "    tokens = list(_tokens(code))\n",
    "    for i,token in enumerate(tokens):\n",
    "        for name in docments(code, returns=False).keys():\n",
    "            if name not in annotations.keys():\n",
    "                if token.string == name and tokens[i+1].string == \":\":\n",
    "                    annotations[name] = tokens[i+2].string\n",
    "        if token.string == \"->\":\n",
    "            annotations[\"return\"] = tokens[i+1].string\n",
    "    return annotations"
   ]
  },
  {
   "cell_type": "code",
   "execution_count": null,
   "id": "edd45d2c-4637-4e0a-a235-33e02dcf74c0",
   "metadata": {},
   "outputs": [
    {
     "data": {
      "text/plain": [
       "{'source_code': 'str', 'example_code': 'str', 'return': 'str'}"
      ]
     },
     "execution_count": null,
     "metadata": {},
     "output_type": "execute_result"
    }
   ],
   "source": [
    "get_annotations(code)"
   ]
  },
  {
   "cell_type": "code",
   "execution_count": null,
   "id": "cbc5c188-669b-492c-883b-3905880b9b2c",
   "metadata": {},
   "outputs": [],
   "source": [
    "#| export\n",
    "def reformat_annotation_docstring(\n",
    "    source_code:str, # The complete python code of a function or class\n",
    ") -> str:\n",
    "    \"\"\"\n",
    "    Takes the docstring from `source_code` and formats its docment inputs to \n",
    "    Hugging Face/Google style.\n",
    "    \"\"\"\n",
    "    function_docments = docments(source_code)\n",
    "    if all(documentation == None for documentation in function_docments.values()):\n",
    "        return source_code\n",
    "    function_annotations = get_annotations(source_code)\n",
    "    beginning, docstring, end = source_code.split('\\\"\\\"\\\"')\n",
    "    search = re.search(\"^(\\s*)(?:\\S|$)\", docstring.lstrip(\"\\n\"))\n",
    "    if search is None:\n",
    "        num_spaces = 0\n",
    "    else:\n",
    "        num_spaces = len(search.groups()[0])\n",
    "    spaces = \" \" * num_spaces\n",
    "    if not docstring.startswith(\"\\n\"):\n",
    "        docstring = f\"\\n{spaces}{docstring}\\n\"\n",
    "    docstring += \"\\n\" + spaces + \"Args:\"\n",
    "    for variable in function_docments.keys():\n",
    "        beginning = beginning.replace(f\"# {function_docments[variable]}\", \"\")\n",
    "        if variable != \"return\":\n",
    "            docstring += f'\\n{spaces}  {variable} (`{function_annotations.get(variable, \"Any\")}`)'\n",
    "            if function_docments[variable] != None:\n",
    "                docstring += f':\\n{spaces}    {function_docments[variable]}'\n",
    "        elif function_docments[variable] != None:\n",
    "            docstring += f'\\n{spaces}Returns: {function_docments[variable]}'\n",
    "    docstring += f\"\\n{spaces}\"\n",
    "    return '\\\"\\\"\\\"'.join((beginning, docstring, end))"
   ]
  },
  {
   "cell_type": "code",
   "execution_count": null,
   "id": "7fb3c40d-0077-4612-8d88-732e1b3f9220",
   "metadata": {},
   "outputs": [
    {
     "name": "stdout",
     "output_type": "stream",
     "text": [
      "def attach_example(\n",
      "    source_code:str, \n",
      "    example_code:str \n",
      ") -> str:\n",
      "    \"\"\"\n",
      "    Attaches example code to source code in a code cell\n",
      "    \n",
      "    Arguments:\n",
      "      source_code (`str`):\n",
      "        The complete python code of a function or class\n",
      "      example_code (`str`):\n",
      "        The complete annotated example to go along with the source code\n",
      "    \"\"\"\n",
      "    example_code = example_code.split(\"\")\n",
      "    \n",
      "    num_spaces = sum(1 for _ in itertools.takewhile(str.isspace, example_code[0]))\n",
      "\n"
     ]
    }
   ],
   "source": [
    "print(reformat_annotation_docstring(code))"
   ]
  },
  {
   "cell_type": "code",
   "execution_count": null,
   "id": "284930cf-ac82-430a-a27e-fb295e839ef1",
   "metadata": {},
   "outputs": [],
   "source": [
    "example = \"\"\"attach_example(\n",
    "  source_code = \"some code\",\n",
    "  example_code = \"my example\"\n",
    ")\"\"\""
   ]
  },
  {
   "cell_type": "code",
   "execution_count": null,
   "id": "54ba7567-47d1-46ae-a0b8-65becfcf3966",
   "metadata": {},
   "outputs": [],
   "source": [
    "#| export\n",
    "def attach_example(\n",
    "    source_code:str, # The complete python code of a function or class\n",
    "    example_code:str # The complete annotated example to go along with the source code\n",
    ") -> str:\n",
    "    \"\"\"\n",
    "    Attaches example code to source code in a code cell\n",
    "    \"\"\"\n",
    "    beginning, docstring, end = source_code.split('\\\"\\\"\\\"')\n",
    "    search = re.search(\"^(\\s*)(?:\\S|$)\", docstring.split(\"\\n\")[0].lstrip(\"\\n\"))\n",
    "    if search is None:\n",
    "        num_spaces = 4\n",
    "    else:\n",
    "        num_spaces = len(search.groups()[0]) + 4\n",
    "    spaces = \" \" * num_spaces\n",
    "    docstring += f\"\\n{spaces}Example:\\n\\n{spaces}```python\\n\"\n",
    "    example_code = example_code.split(\"\\n\")\n",
    "    for i,line in enumerate(example_code):\n",
    "        if line[0].isspace() or line[0] in [\")\", \"}\"]:\n",
    "            example_code[i] = f'{spaces}... {line}'\n",
    "        else:\n",
    "            example_code[i] = f'{spaces}>>> {line}'\n",
    "    example_code += [f\"{spaces}```\\n{spaces}\"]\n",
    "    docstring += '\\n'.join(example_code)\n",
    "    return '\\\"\\\"\\\"'.join((beginning, docstring, end))"
   ]
  },
  {
   "cell_type": "code",
   "execution_count": null,
   "id": "17ee890a-16a2-44a2-b06f-31fc749de921",
   "metadata": {},
   "outputs": [],
   "source": [
    "#| example\n",
    "attach_example(\n",
    "  source_code = \"some code\",\n",
    "  example_code = \"my example\"\n",
    ")"
   ]
  },
  {
   "cell_type": "code",
   "execution_count": null,
   "id": "dde3df76-89f3-435c-88f2-e7c81797b905",
   "metadata": {},
   "outputs": [
    {
     "name": "stdout",
     "output_type": "stream",
     "text": [
      "def attach_example(\n",
      "    source_code:str, \n",
      "    example_code:str \n",
      ") -> str:\n",
      "    \"\"\"\n",
      "    Attaches example code to source code in a code cell\n",
      "    \n",
      "    Arguments:\n",
      "      source_code (`str`):\n",
      "        The complete python code of a function or class\n",
      "      example_code (`str`):\n",
      "        The complete annotated example to go along with the source code\n",
      "    \n",
      "    Example:\n",
      "\n",
      "    ```python\n",
      "    >>> attach_example(\n",
      "    ...   source_code = \"some code\",\n",
      "    ...   example_code = \"my example\"\n",
      "    ... )\n",
      "    ```\n",
      "    \"\"\"\n",
      "    example_code = example_code.split(\"\")\n",
      "    \n",
      "    num_spaces = sum(1 for _ in itertools.takewhile(str.isspace, example_code[0]))\n",
      "\n"
     ]
    }
   ],
   "source": [
    "print(attach_example(reformat_annotation_docstring(code), example))"
   ]
  },
  {
   "cell_type": "code",
   "execution_count": null,
   "id": "95c442f7-5310-4b86-a89e-4af443bfc24f",
   "metadata": {},
   "outputs": [],
   "source": [
    "#| export\n",
    "from nbdev.processors import Processor\n",
    "from nbdev.process import extract_directives"
   ]
  },
  {
   "cell_type": "code",
   "execution_count": null,
   "id": "e6d175f5-1e8f-446f-84e0-4e275954f8bf",
   "metadata": {},
   "outputs": [],
   "source": [
    "#| export\n",
    "class CodeCleaner(Processor):\n",
    "    def cell(self, cell):\n",
    "        if cell.cell_type == \"code\" and \"export\" in cell.directives_ and \"import\" not in cell.source:\n",
    "            if (\"def \" in cell.source) or (\"class \" in cell.source):\n",
    "                cell.source = reformat_annotation_docstring(\n",
    "                    cell.source,\n",
    "                )"
   ]
  },
  {
   "cell_type": "code",
   "execution_count": null,
   "id": "2b2993fd-f607-4120-8cd7-a98579a708d1",
   "metadata": {},
   "outputs": [],
   "source": [
    "#| export\n",
    "class DocstringExampleAdder(Processor):\n",
    "    has_example = False\n",
    "    previous_cell = None\n",
    "    def cell(self, cell):\n",
    "        if cell.cell_type == \"code\":\n",
    "            if \"export\" in cell.directives_:\n",
    "                if \"import\" not in cell.source and (\"def \" in cell.source or \"class \" in cell.source):\n",
    "                    self.previous_cell = cell\n",
    "            if \"example\" in cell.directives_:\n",
    "                self.previous_cell.source = attach_example(\n",
    "                    self.previous_cell.source, \n",
    "                    cell.source\n",
    "                )\n",
    "                self.previous_cell = None\n",
    "                self.nb.cells.remove(cell)"
   ]
  },
  {
   "cell_type": "code",
   "execution_count": null,
   "id": "c9c6062f-6235-4afc-b9df-69c860f85c00",
   "metadata": {},
   "outputs": [],
   "source": [
    "from nbdev.processors import mk_cell, NBProcessor, dict2nb"
   ]
  },
  {
   "cell_type": "code",
   "execution_count": null,
   "id": "8e11d109-a5d5-47ec-9cf9-63b3100a1255",
   "metadata": {},
   "outputs": [],
   "source": [
    "nb = {\n",
    "    \"cells\":[\n",
    "    mk_cell(f'#| export\\n{code}', \"code\"),\n",
    "    mk_cell(\"#| example\\n\" + example, \"code\"),\n",
    "]}"
   ]
  },
  {
   "cell_type": "code",
   "execution_count": null,
   "id": "e434b88d-f7ca-4188-b296-3bb1b7d6a40c",
   "metadata": {},
   "outputs": [],
   "source": [
    "processor = NBProcessor(procs=[CodeCleaner, DocstringExampleAdder], nb=dict2nb(nb))"
   ]
  },
  {
   "cell_type": "code",
   "execution_count": null,
   "id": "ca38e30f-a97d-4147-8d89-e843330a5fb0",
   "metadata": {},
   "outputs": [],
   "source": [
    "processor.process()"
   ]
  },
  {
   "cell_type": "code",
   "execution_count": null,
   "id": "0adcb8ab-f639-43ec-adf7-1f3cc875bbfd",
   "metadata": {},
   "outputs": [
    {
     "name": "stdout",
     "output_type": "stream",
     "text": [
      "def attach_example(\n",
      "    source_code:str, \n",
      "    example_code:str \n",
      ") -> str:\n",
      "    \"\"\"\n",
      "    Attaches example code to source code in a code cell\n",
      "    \n",
      "    Arguments:\n",
      "      source_code (`str`):\n",
      "        The complete python code of a function or class\n",
      "      example_code (`str`):\n",
      "        The complete annotated example to go along with the source code\n",
      "    \n",
      "    Example:\n",
      "\n",
      "    ```python\n",
      "    >>> attach_example(\n",
      "    ...   source_code = \"some code\",\n",
      "    ...   example_code = \"my example\"\n",
      "    ... )\n",
      "    ```\n",
      "    \"\"\"\n",
      "    example_code = example_code.split(\"\")\n",
      "    \n",
      "    num_spaces = sum(1 for _ in itertools.takewhile(str.isspace, example_code[0]))\n",
      "\n"
     ]
    }
   ],
   "source": [
    "print(processor.nb[\"cells\"][0].source)"
   ]
  },
  {
   "cell_type": "code",
   "execution_count": null,
   "id": "19438842-14b8-405a-8a31-a96691b2540e",
   "metadata": {},
   "outputs": [],
   "source": []
  }
 ],
 "metadata": {
  "kernelspec": {
   "display_name": "Python 3 (ipykernel)",
   "language": "python",
   "name": "python3"
  }
 },
 "nbformat": 4,
 "nbformat_minor": 5
}
