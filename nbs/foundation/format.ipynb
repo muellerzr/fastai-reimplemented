{
 "cells": [
  {
   "cell_type": "code",
   "execution_count": 1,
   "id": "ca724fa2-0fde-462d-87ef-f7bfc3203c3a",
   "metadata": {},
   "outputs": [],
   "source": [
    "#| default_exp foundation.codeformat"
   ]
  },
  {
   "cell_type": "markdown",
   "id": "209da795-92d1-405e-8d97-ef5780065b45",
   "metadata": {},
   "source": [
    "# Code Formatting\n",
    "> Tests to check code formatting and quality"
   ]
  },
  {
   "cell_type": "markdown",
   "id": "a32b51c9-7a02-44b5-a7f3-0d8f5f60c3d5",
   "metadata": {},
   "source": [
    "Using the `setup.cfg` in this project clean up code cells"
   ]
  },
  {
   "cell_type": "code",
   "execution_count": null,
   "id": "9ae785d1-e24a-4dcb-94e5-9da4bba48d76",
   "metadata": {},
   "outputs": [],
   "source": [
    "#| export\n",
    "from __future__ import annotations"
   ]
  },
  {
   "cell_type": "code",
   "execution_count": 1,
   "id": "46041240-ca84-4c01-ae98-8c8bdd0ef6db",
   "metadata": {
    "tags": []
   },
   "outputs": [],
   "source": [
    "#| export\n",
    "import black\n",
    "import itertools\n",
    "import re\n",
    "import subprocess\n",
    "from tokenize import tokenize,COMMENT\n",
    "from ast import parse,FunctionDef\n",
    "from io import BytesIO\n",
    "from textwrap import dedent\n",
    "from types import SimpleNamespace\n",
    "from inspect import getsource,isfunction,isclass,signature,Parameter\n",
    "from fastcore.basics import *\n",
    "import ast\n",
    "import sys"
   ]
  },
  {
   "cell_type": "code",
   "execution_count": 2,
   "id": "4bdc047f-7647-4a34-8d53-0a2d2a5c194b",
   "metadata": {
    "tags": []
   },
   "outputs": [],
   "source": [
    "#| export\n",
    "def unparse(source:str = None):\n",
    "    \"Unparses `source` with the correct unparser\"\n",
    "    if source is None:\n",
    "        return ''\n",
    "    elif sys.version_info.major <= 3 and sys.version_info.minor < 9:\n",
    "        import astunparse\n",
    "        return astunparse.unparse(source).rstrip()\n",
    "    else:\n",
    "        return ast.unparse(source)"
   ]
  },
  {
   "cell_type": "code",
   "execution_count": 3,
   "id": "6420767d-ebf6-4e65-977c-19796f01156b",
   "metadata": {
    "tags": []
   },
   "outputs": [],
   "source": [
    "#| export\n",
    "def parse(source:str = None):\n",
    "    \"Shortcut for `ast.parse`\"\n",
    "    return ast.parse(source)"
   ]
  },
  {
   "cell_type": "code",
   "execution_count": 4,
   "id": "073e9e32-1bc8-4075-ae81-c89be5f87da2",
   "metadata": {
    "tags": []
   },
   "outputs": [],
   "source": [
    "#| export\n",
    "def get_annotations(\n",
    "    parsed_function: ast.FunctionDef # A parsed function\n",
    "):\n",
    "    \"Extracts type annotations from a single function\"\n",
    "    arg_annotations = []\n",
    "    for annotation in parsed_function.args.args:\n",
    "        arg_annotations.append(\n",
    "            unparse(\n",
    "                annotation.annotation\n",
    "            )\n",
    "        )\n",
    "    return_annotation = unparse(parsed_function.returns)\n",
    "    return arg_annotations, return_annotation        "
   ]
  },
  {
   "cell_type": "code",
   "execution_count": 79,
   "id": "0411a42c-537f-473d-a0da-4844347d9b32",
   "metadata": {
    "tags": []
   },
   "outputs": [],
   "source": [
    "function_source = '''def addition(\n",
    "    a:(int, float), # The first number to add\n",
    "    # The second number to add\n",
    "    b:int = 2,\n",
    ") -> (int,float): # The sum of a and b\n",
    "    \"Adds two numbers together\"\n",
    "    return a+b'''\n",
    "annotations = get_annotations(ast.parse(function_source).body[0])\n",
    "assert annotations == (['(int, float)', \"int\"], '(int, float)')"
   ]
  },
  {
   "cell_type": "code",
   "execution_count": 80,
   "id": "f2e9018e-758f-48da-a66c-31e5b96ea8f2",
   "metadata": {
    "tags": []
   },
   "outputs": [],
   "source": [
    "#| export\n",
    "def _parses(s):\n",
    "    \"\"\"Parse Python code in string or function object `s`\"\"\"\n",
    "    return parse(dedent(getsource(s) if isfunction(s) else s))"
   ]
  },
  {
   "cell_type": "code",
   "execution_count": 81,
   "id": "44754d37-7b7b-42b8-ba20-f9b663ac792e",
   "metadata": {
    "tags": []
   },
   "outputs": [],
   "source": [
    "#| export\n",
    "def _tokens(s):\n",
    "    \"\"\"Tokenize Python code in string or function object `s`\"\"\"\n",
    "    if isfunction(s): s = getsource(s)\n",
    "    return tokenize(BytesIO(s.encode('utf-8')).readline)"
   ]
  },
  {
   "cell_type": "code",
   "execution_count": 82,
   "id": "7b7892dd-df3e-4ebf-9059-9e1df52455ca",
   "metadata": {
    "tags": []
   },
   "outputs": [],
   "source": [
    "#| export\n",
    "_clean_re = re.compile('^\\s*#(.*)\\s*$')"
   ]
  },
  {
   "cell_type": "code",
   "execution_count": 83,
   "id": "e35b2b98-ad1b-4918-a201-d91f64a56eea",
   "metadata": {
    "tags": []
   },
   "outputs": [],
   "source": [
    "#| export\n",
    "def _clean_comment(s):\n",
    "    res = _clean_re.findall(s)\n",
    "    return res[0] if res else None"
   ]
  },
  {
   "cell_type": "code",
   "execution_count": 84,
   "id": "70d423ce-8449-4d71-a509-9067aa503880",
   "metadata": {
    "tags": []
   },
   "outputs": [],
   "source": [
    "#| export\n",
    "def _param_locs(s, returns=True):\n",
    "    \"\"\"`dict` of parameter line numbers to names\"\"\"\n",
    "    body = _parses(s).body\n",
    "    if len(body)!= 1 or not isinstance(body[0], FunctionDef): return None\n",
    "    defn = body[0]\n",
    "    res = {arg.lineno:arg.arg for arg in defn.args.args}\n",
    "    if returns and defn.returns: res[defn.returns.lineno] = 'return'\n",
    "    return res"
   ]
  },
  {
   "cell_type": "code",
   "execution_count": 85,
   "id": "46bd57f4-d7b3-405d-afda-ba6c417032d6",
   "metadata": {
    "tags": []
   },
   "outputs": [],
   "source": [
    "#| export\n",
    "def _get_comment(line, arg, comments, parms):\n",
    "    if line in comments: return comments[line].strip()\n",
    "    line -= 1\n",
    "    res = []\n",
    "    while line and line in comments and line not in parms:\n",
    "        res.append(comments[line])\n",
    "        line -= 1\n",
    "    return dedent('\\n'.join(reversed(res))) if res else None"
   ]
  },
  {
   "cell_type": "code",
   "execution_count": 86,
   "id": "35420f98-d874-410e-8f4d-735ca4779e3d",
   "metadata": {
    "tags": []
   },
   "outputs": [],
   "source": [
    "#| export\n",
    "def _get_full(anno, name, default, docs):\n",
    "    if anno==Parameter.empty and default!=Parameter.empty: anno = type(default)\n",
    "    return AttrDict(docment=docs.get(name), anno=anno, default=default)"
   ]
  },
  {
   "cell_type": "code",
   "execution_count": 87,
   "id": "893629fb-32b8-40ca-a08f-1f8a66418606",
   "metadata": {
    "tags": []
   },
   "outputs": [],
   "source": [
    "#| export\n",
    "def docments(s, full=False, returns=True, eval_str=False):\n",
    "    \"\"\"`dict` of parameter names to 'docment-style' comments in function or string `s`\"\"\"\n",
    "    if isclass(s): s = s.__init__ # Constructor for a class\n",
    "    comments = {o.start[0]:_clean_comment(o.string) for o in _tokens(s) if o.type==COMMENT}\n",
    "    parms = _param_locs(s, returns=returns)\n",
    "    docs = {arg:_get_comment(line, arg, comments, parms) for line,arg in parms.items()}\n",
    "    if not full: return docs\n",
    "\n",
    "    if isinstance(s,str): s = eval(s)\n",
    "    sig = signature(s)\n",
    "    res = {arg:_get_full(p.annotation, p.name, p.default, docs) for arg,p in sig.parameters.items()}\n",
    "    if returns: res['return'] = _get_full(sig.return_annotation, 'return', Parameter.empty, docs)\n",
    "    if eval_str:\n",
    "        hints = type_hints(s)\n",
    "        for k,v in res.items():\n",
    "            if k in hints: v['anno'] = hints.get(k)\n",
    "    return res"
   ]
  },
  {
   "cell_type": "code",
   "execution_count": 500,
   "id": "cce72708-e2ae-4394-bb63-d5f3079f9b32",
   "metadata": {
    "tags": []
   },
   "outputs": [],
   "source": [
    "#| export\n",
    "def reformat_function(\n",
    "    source:str, # Source code\n",
    "):\n",
    "    \"Refactors `source` function docstring\"\n",
    "    function_docments = docments(source)\n",
    "    parsed_source = parse(source).body[0]\n",
    "    function_annotations = get_annotations(parsed_source)\n",
    "    # Extract the docstring\n",
    "    if isinstance(parsed_source.body[0], ast.Expr):\n",
    "        function_docstring = unparse(parsed_source.body[0]).replace(\"'\", \"\")\n",
    "        start_line_num = parsed_source.body[0].end_lineno\n",
    "    else:\n",
    "        function_docstring = \"\"\n",
    "        start_line_num = parsed_source.body[0].lineno - 1\n",
    "    # Extract the function logic without formatting\n",
    "    function_body = \"\\n\".join(source.split(\"\\n\")[start_line_num:])\n",
    "    variables = list(function_docments.keys())\n",
    "    for variable in (\"self\", \"cls\", \"return\"):\n",
    "        if variable in variables:\n",
    "            variables.remove(variable)\n",
    "    if len(variables) > 0 and any(docstring != None for docstring in function_docments.values()):\n",
    "        if len(function_docstring) > 0:\n",
    "            function_docstring += \"\\n\\n\"\n",
    "        function_docstring += f\"Args:\\n\"\n",
    "        for i, name in enumerate(function_docments.keys()):\n",
    "            if name in (\"self\", \"cls\"):\n",
    "                continue\n",
    "            elif name == \"return\":\n",
    "                arg_doc = function_docments[name]\n",
    "                if arg_doc != None:\n",
    "                    annotation = function_annotations[1]\n",
    "                    function_docstring += \"\\nReturns:\\n\"\n",
    "                    function_docstring += f'    {annotation}'\n",
    "                    function_docstring += f': {arg_doc}\\n'\n",
    "            else:\n",
    "                arg_doc = function_docments.get(name, \"\")\n",
    "                annotation = function_annotations[0][i]\n",
    "                if annotation != '':\n",
    "                    if not annotation.startswith(\"(\"):\n",
    "                        annotation = f'({annotation})'\n",
    "                function_docstring += f\"    {name}\"\n",
    "                if annotation != None:\n",
    "                    function_docstring += f' {annotation}'\n",
    "                function_docstring += f\":\\n        {arg_doc}\\n\"\n",
    "    offset = parsed_source.body[0].col_offset\n",
    "    offset = ' '*offset\n",
    "    if function_docstring != '':\n",
    "        function_docstring = '\\n'.join([\n",
    "            f'{offset}{line}'\n",
    "            for line in function_docstring.split(\"\\n\")\n",
    "        ])\n",
    "        function_docstring = f'\"\"\"\\n{function_docstring}'\n",
    "        if \"return\" in function_docments:\n",
    "            function_docstring += '\\n'\n",
    "        if not function_docstring.endswith(offset):\n",
    "            if not function_docstring.endswith(\"\\n\"):\n",
    "                function_docstring += \"\\n\"\n",
    "            function_docstring += f'{offset}\"\"\"'\n",
    "        else:\n",
    "            function_docstring += f'\"\"\"'\n",
    "        function_docstring = parse(function_docstring)\n",
    "        if not isinstance(parsed_source.body[0], ast.Expr):\n",
    "            parsed_source.body.insert(0, function_docstring)\n",
    "        else:\n",
    "            parsed_source.body[0] = function_docstring\n",
    "    else:\n",
    "        parsed_source.body.insert(0, ast.parse(''))\n",
    "    parsed_source.body = parsed_source.body[:1]\n",
    "    return f'{unparse(parsed_source)}\\n{function_body}'"
   ]
  },
  {
   "cell_type": "code",
   "execution_count": 503,
   "id": "0be8d017-596d-451e-8395-f0300828f707",
   "metadata": {
    "tags": []
   },
   "outputs": [
    {
     "name": "stdout",
     "output_type": "stream",
     "text": [
      "def addition(a: (int, float), b: int=2) -> (int, float):\n",
      "    \"\"\"\n",
      "    Adds two numbers together\n",
      "    \n",
      "    Args:\n",
      "        a (int, float):\n",
      "            The first number to add\n",
      "        b (int):\n",
      "            The second number to add\n",
      "    \n",
      "    Returns:\n",
      "        (int, float): The sum of a and b\n",
      "    \"\"\"\n",
      "    return a+b\n"
     ]
    }
   ],
   "source": [
    "print(reformat_function(function_source))"
   ]
  },
  {
   "cell_type": "code",
   "execution_count": 454,
   "id": "2c485702-28db-4f1b-be27-7dc0c38e1f81",
   "metadata": {
    "tags": []
   },
   "outputs": [],
   "source": [
    "#| export\n",
    "def reformat_class(\n",
    "    source:str # Source code of an entire class\n",
    "):\n",
    "    \"Reformats an entire class source code\"\n",
    "    parsed_class = parse(source)\n",
    "    new_source = \"\"\n",
    "    \n",
    "    if isinstance(parsed_class.body[0].body[0], ast.Expr):\n",
    "        class_docstring = unparse(parsed_class.body[0].body[0]).replace(\"'\", \"\")\n",
    "        docstring_offset = f\"{' '*parsed_class.body[0].body[0].col_offset}\"\n",
    "        if not class_docstring.startswith(\"\\\\n\"):\n",
    "            class_docstring = f'\\n{docstring_offset}{class_docstring}'\n",
    "        if not class_docstring.endswith(f\"\\\\n{docstring_offset}\"):\n",
    "            class_docstring = f'{class_docstring}\\n{docstring_offset}'\n",
    "        class_docstring = ast.parse(f'\"\"\"{class_docstring}\"\"\"')\n",
    "    else:\n",
    "        class_docstring = \"\"\n",
    "    for index, item in enumerate(parsed_class.body[0].body[1:]):\n",
    "        if not isinstance(item, (ast.FunctionDef, ast.ClassDef)):\n",
    "            # Comments in the source code\n",
    "            original_source = source.split(\"\\n\")\n",
    "            comment = \"\\n\".join(original_source[item.lineno-1:item.end_lineno])\n",
    "            row = 1\n",
    "            if len(original_source) > item.lineno-1+row:\n",
    "                while original_source[item.lineno-1+row].lstrip().startswith(\"#\"):\n",
    "                    comment += \"\\n\"\n",
    "                    comment += \"\\n\".join(original_source[item.lineno-1+row:item.lineno-1+row+1])\n",
    "                    row += 1\n",
    "            original_source = comment\n",
    "            if not original_source[0].isspace():\n",
    "                refactored = \"\\n\".join([\n",
    "                    f'{\" \"*(item.col_offset)}{line}'\n",
    "                    for line in original_source.split(\"\\n\")\n",
    "                ])\n",
    "            else:\n",
    "                refactored = original_source\n",
    "            new_source += f'\\n{refactored}'\n",
    "        else:\n",
    "            original_source = '\\n'.join(\n",
    "                source.split('\\n')[item.lineno-1:item.end_lineno]\n",
    "            )\n",
    "            if original_source[0].isspace():\n",
    "                original_source = \"\\n\".join([\n",
    "                    line[item.col_offset:]\n",
    "                    for line in original_source.split(\"\\n\")\n",
    "                ])\n",
    "            if isinstance(item, ast.FunctionDef):\n",
    "                # Assumes only one decorator for now\n",
    "                has_decorator = False\n",
    "                for decorator in item.decorator_list:\n",
    "                    decorator = source.split('\\n')[item.lineno-2:item.lineno-1]\n",
    "                    decorator = '\\n'.join([\n",
    "                        line[item.col_offset:] \n",
    "                        for line in decorator\n",
    "                    ])\n",
    "                    has_decorator = True\n",
    "                refactored = reformat_function(original_source)\n",
    "                if has_decorator:\n",
    "                    refactored = f'{decorator}\\n{refactored}'\n",
    "                refactored = refactored.split('\\n')\n",
    "                refactored = '\\n'.join([\n",
    "                    f'{\" \"*item.col_offset}{line}'\n",
    "                    for line in refactored\n",
    "                ])\n",
    "                new_source += f'\\n\\n{refactored}'\n",
    "            elif isinstance(item, ast.ClassDef):\n",
    "                # De-indent the inner class\n",
    "                refactored = reformat_class(original_source).split(\"\\n\")\n",
    "                if '\"' in refactored[1] and refactored[2] == '':\n",
    "                    refactored.pop(2)\n",
    "                refactored = '\\n'.join([\n",
    "                    f'{\" \"*item.col_offset}{line}'\n",
    "                    for line in refactored\n",
    "                ])\n",
    "                new_source += f'\\n\\n{refactored}'\n",
    "    \n",
    "    parsed_class.body[0].body = parsed_class.body[0].body[:1]\n",
    "    if not isinstance(parsed_class.body[0].body[0], ast.Expr):\n",
    "        parsed_class.body[0].body.insert(0, class_docstring)\n",
    "    else:\n",
    "        parsed_class.body[0].body[0] = class_docstring\n",
    "    return f'{unparse(parsed_class)}{new_source}'"
   ]
  },
  {
   "cell_type": "code",
   "execution_count": 455,
   "id": "2b12be50-909f-42b3-b441-4f70edbe1048",
   "metadata": {
    "tags": []
   },
   "outputs": [],
   "source": [
    "class_source = '''class StrEnum(str, Enum):\n",
    "    \"\"\"\n",
    "    Same as the `StrEnum` available in Python 3.11, returns\n",
    "    the lower-cased version of the member name.\n",
    "    \"\"\"\n",
    "    @classmethod\n",
    "    def contains(cls, value) -> bool:\n",
    "        \"\"\"\n",
    "        Checks if `value` exists in the current `Enum`\n",
    "        \"\"\"\n",
    "        return value in cls._value2member_map_\n",
    "    \n",
    "    def _generate_next_value_(name, start, count, last_values):\n",
    "        return name.lower()'''"
   ]
  },
  {
   "cell_type": "code",
   "execution_count": 456,
   "id": "580872fb-32d7-4905-b958-1e69992bc1b3",
   "metadata": {},
   "outputs": [
    {
     "name": "stdout",
     "output_type": "stream",
     "text": [
      "class StrEnum(str, Enum):\n",
      "    \"\"\"\n",
      "    Same as the `StrEnum` available in Python 3.11, returns\n",
      "    the lower-cased version of the member name.\n",
      "    \"\"\"\n",
      "\n",
      "    @classmethod\n",
      "    def contains(cls, value) -> bool:\n",
      "        \"\"\"\n",
      "        \n",
      "        Checks if `value` exists in the current `Enum`\n",
      "        \n",
      "        \"\"\"\n",
      "        return value in cls._value2member_map_\n",
      "\n",
      "    def _generate_next_value_(name, start, count, last_values):\n",
      "        return name.lower()\n",
      "        return name.lower()\n"
     ]
    }
   ],
   "source": [
    "print(reformat_class(class_source))"
   ]
  },
  {
   "cell_type": "code",
   "execution_count": 457,
   "id": "edd45d2c-4637-4e0a-a235-33e02dcf74c0",
   "metadata": {
    "tags": []
   },
   "outputs": [],
   "source": [
    "class_source = '''class Arithmetic:\n",
    "    \"A class that can perform basic arithmetic on ops\"\n",
    "    _o = 2\n",
    "    # Here's a comment\n",
    "    _b = 5\n",
    "    _c = 3\n",
    "    \n",
    "    class A:\n",
    "        \"My docstring\"\n",
    "        _d = 5\n",
    "        def __init__(\n",
    "          self, \n",
    "          o:int # An integer\n",
    "        ):\n",
    "            self.o = o\n",
    "    \n",
    "    def __init__(\n",
    "        self,\n",
    "        a:int, # The first number to use\n",
    "        b:(int, float), # The second number to use\n",
    "    ):\n",
    "        self.a = a\n",
    "        self.b = b\n",
    "        \n",
    "    # Here's another test\n",
    "    \n",
    "    @delegates()\n",
    "    def add(\n",
    "        self\n",
    "    ) -> (int,float): # Sum of a and b\n",
    "        \"Adds self.a and self.b\"\n",
    "        return self.a + self.b'''"
   ]
  },
  {
   "cell_type": "code",
   "execution_count": 458,
   "id": "f3d98093-644b-4187-bc11-144f745ac977",
   "metadata": {
    "tags": []
   },
   "outputs": [
    {
     "name": "stdout",
     "output_type": "stream",
     "text": [
      "class Arithmetic:\n",
      "    \"\"\"\n",
      "    A class that can perform basic arithmetic on ops\n",
      "    \"\"\"\n",
      "    _o = 2\n",
      "    # Here's a comment\n",
      "    _b = 5\n",
      "    _c = 3\n",
      "\n",
      "    class A:\n",
      "        \"\"\"\n",
      "        My docstring\n",
      "        \"\"\"\n",
      "        _d = 5\n",
      "    \n",
      "        def __init__(self, o: int):\n",
      "            \"\"\"\n",
      "            Args:\n",
      "                o (int):\n",
      "                    An integer\n",
      "            \"\"\"\n",
      "            self.o = o\n",
      "\n",
      "    def __init__(self, a: int, b: (int, float)):\n",
      "        \"\"\"\n",
      "        Args:\n",
      "            a (int):\n",
      "                The first number to use\n",
      "            b (int, float):\n",
      "                The second number to use\n",
      "        \"\"\"\n",
      "        self.a = a\n",
      "        self.b = b\n",
      "\n",
      "    @delegates()\n",
      "    def add(self) -> (int, float):\n",
      "        \"\"\"\n",
      "        Adds self.a and self.b\n",
      "        \"\"\"\n",
      "        return self.a + self.b\n"
     ]
    }
   ],
   "source": [
    "print(reformat_class(class_source))"
   ]
  },
  {
   "cell_type": "code",
   "execution_count": 222,
   "id": "284930cf-ac82-430a-a27e-fb295e839ef1",
   "metadata": {},
   "outputs": [],
   "source": [
    "example = \"\"\"attach_example(\n",
    "  source_code = \"some code\",\n",
    "  example_code = \"my example\"\n",
    ")\"\"\""
   ]
  },
  {
   "cell_type": "code",
   "execution_count": 223,
   "id": "54ba7567-47d1-46ae-a0b8-65becfcf3966",
   "metadata": {},
   "outputs": [],
   "source": [
    "#| export\n",
    "def attach_example(\n",
    "    source_code:str, # The complete python code of a function or class\n",
    "    example_code:str # The complete annotated example to go along with the source code\n",
    ") -> str:\n",
    "    \"Attaches example code to source code in a code cell\"\n",
    "    beginning, docstring, end = source_code.split('\\\"\\\"\\\"')\n",
    "    search = re.search(\"^(\\s*)(?:\\S|$)\", docstring.split(\"\\n\")[0].lstrip(\"\\n\"))\n",
    "    if search is None:\n",
    "        num_spaces = 4\n",
    "    else:\n",
    "        num_spaces = len(search.groups()[0]) + 4\n",
    "    spaces = \" \" * num_spaces\n",
    "    if docstring.endswith(f\"\\n{spaces}\"):\n",
    "        docstring = docstring[:(-1 - num_spaces)]\n",
    "    docstring += f\"{spaces}Example:\\n\\n{spaces}```python\\n\"\n",
    "    example_code = example_code.split(\"\\n\")\n",
    "    for i,line in enumerate(example_code):\n",
    "        if line[0].isspace() or line[0] in [\")\", \"}\"]:\n",
    "            example_code[i] = f'{spaces}... {line}'\n",
    "        else:\n",
    "            example_code[i] = f'{spaces}>>> {line}'\n",
    "    example_code += [f\"{spaces}```\\n{spaces}\"]\n",
    "    docstring += '\\n'.join(example_code)\n",
    "    return '\\\"\\\"\\\"'.join((beginning, docstring, end))"
   ]
  },
  {
   "cell_type": "code",
   "execution_count": null,
   "id": "17ee890a-16a2-44a2-b06f-31fc749de921",
   "metadata": {},
   "outputs": [],
   "source": [
    "#| example\n",
    "attach_example(\n",
    "  source_code = \"some code\",\n",
    "  example_code = \"my example\"\n",
    ")"
   ]
  },
  {
   "cell_type": "code",
   "execution_count": 227,
   "id": "dde3df76-89f3-435c-88f2-e7c81797b905",
   "metadata": {},
   "outputs": [
    {
     "name": "stdout",
     "output_type": "stream",
     "text": [
      "def addition(a: (int, float), b: int=2) -> (int, float):\n",
      "    \"\"\"\n",
      "    Adds two numbers together\n",
      "    \n",
      "    Args:\n",
      "        a (int, float):\n",
      "            The first number to add\n",
      "        b (int):\n",
      "            The second number to add\n",
      "    \n",
      "    Returns:\n",
      "        (int, float): The sum of a and b\n",
      "    \n",
      "    Example:\n",
      "\n",
      "    ```python\n",
      "    >>> attach_example(\n",
      "    ...   source_code = \"some code\",\n",
      "    ...   example_code = \"my example\"\n",
      "    ... )\n",
      "    ```\n",
      "    \"\"\"\n",
      "    return a+b\n"
     ]
    }
   ],
   "source": [
    "print(attach_example(reformat_function(function_source), example))"
   ]
  },
  {
   "cell_type": "code",
   "execution_count": 228,
   "id": "95c442f7-5310-4b86-a89e-4af443bfc24f",
   "metadata": {},
   "outputs": [],
   "source": [
    "#| export\n",
    "from nbdev.processors import Processor\n",
    "from nbdev.process import extract_directives"
   ]
  },
  {
   "cell_type": "code",
   "execution_count": 236,
   "id": "e6d175f5-1e8f-446f-84e0-4e275954f8bf",
   "metadata": {},
   "outputs": [],
   "source": [
    "#| export\n",
    "class CodeCleaner(Processor):\n",
    "    def cell(self, cell):\n",
    "        if cell.cell_type == \"code\" and \"export\" in cell.directives_ and \"import\" not in cell.source:\n",
    "            if \"class \" in cell.source:\n",
    "                cell.source = reformat_class(cell.source)\n",
    "            elif \"def \" in cell.source:\n",
    "                cell.source = reformat_function(cell.source)"
   ]
  },
  {
   "cell_type": "code",
   "execution_count": 237,
   "id": "2b2993fd-f607-4120-8cd7-a98579a708d1",
   "metadata": {},
   "outputs": [],
   "source": [
    "#| export\n",
    "class DocstringExampleAdder(Processor):\n",
    "    has_example = False\n",
    "    previous_cell = None\n",
    "    def cell(self, cell):\n",
    "        if cell.cell_type == \"code\":\n",
    "            if \"export\" in cell.directives_:\n",
    "                if \"import\" not in cell.source and (\"def \" in cell.source or \"class \" in cell.source):\n",
    "                    self.previous_cell = cell\n",
    "            if \"example\" in cell.directives_:\n",
    "                self.previous_cell.source = attach_example(\n",
    "                    self.previous_cell.source, \n",
    "                    cell.source\n",
    "                )\n",
    "                self.previous_cell = None\n",
    "                self.nb.cells.remove(cell)"
   ]
  },
  {
   "cell_type": "code",
   "execution_count": 238,
   "id": "c9c6062f-6235-4afc-b9df-69c860f85c00",
   "metadata": {},
   "outputs": [],
   "source": [
    "from nbdev.processors import mk_cell, NBProcessor, dict2nb"
   ]
  },
  {
   "cell_type": "code",
   "execution_count": 239,
   "id": "8e11d109-a5d5-47ec-9cf9-63b3100a1255",
   "metadata": {},
   "outputs": [],
   "source": [
    "nb = {\n",
    "    \"cells\":[\n",
    "    mk_cell(f'#| export\\n{function_source}', \"code\"),\n",
    "    mk_cell(\"#| example\\n\" + example, \"code\"),\n",
    "]}"
   ]
  },
  {
   "cell_type": "code",
   "execution_count": 240,
   "id": "e434b88d-f7ca-4188-b296-3bb1b7d6a40c",
   "metadata": {},
   "outputs": [],
   "source": [
    "processor = NBProcessor(procs=[CodeCleaner, DocstringExampleAdder], nb=dict2nb(nb))"
   ]
  },
  {
   "cell_type": "code",
   "execution_count": 241,
   "id": "ca38e30f-a97d-4147-8d89-e843330a5fb0",
   "metadata": {},
   "outputs": [],
   "source": [
    "processor.process()"
   ]
  },
  {
   "cell_type": "code",
   "execution_count": 242,
   "id": "0adcb8ab-f639-43ec-adf7-1f3cc875bbfd",
   "metadata": {},
   "outputs": [
    {
     "name": "stdout",
     "output_type": "stream",
     "text": [
      "def addition(a: (int, float), b: int=2) -> (int, float):\n",
      "    \"\"\"\n",
      "    Adds two numbers together\n",
      "    \n",
      "    Args:\n",
      "        a (int, float):\n",
      "            The first number to add\n",
      "        b (int):\n",
      "            The second number to add\n",
      "    \n",
      "    Returns:\n",
      "        (int, float): The sum of a and b\n",
      "    \n",
      "    Example:\n",
      "\n",
      "    ```python\n",
      "    >>> attach_example(\n",
      "    ...   source_code = \"some code\",\n",
      "    ...   example_code = \"my example\"\n",
      "    ... )\n",
      "    ```\n",
      "    \"\"\"\n",
      "    return a+b\n"
     ]
    }
   ],
   "source": [
    "print(processor.nb[\"cells\"][0].source)"
   ]
  },
  {
   "cell_type": "code",
   "execution_count": null,
   "id": "19438842-14b8-405a-8a31-a96691b2540e",
   "metadata": {},
   "outputs": [],
   "source": []
  }
 ],
 "metadata": {
  "kernelspec": {
   "display_name": "Python 3 (ipykernel)",
   "language": "python",
   "name": "python3"
  },
  "language_info": {
   "codemirror_mode": {
    "name": "ipython",
    "version": 3
   },
   "file_extension": ".py",
   "mimetype": "text/x-python",
   "name": "python",
   "nbconvert_exporter": "python",
   "pygments_lexer": "ipython3",
   "version": "3.9.16"
  }
 },
 "nbformat": 4,
 "nbformat_minor": 5
}
